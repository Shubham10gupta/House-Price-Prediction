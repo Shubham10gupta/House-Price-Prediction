{
 "cells": [
  {
   "cell_type": "code",
   "execution_count": 1,
   "id": "6252dad3",
   "metadata": {},
   "outputs": [],
   "source": [
    "import pandas as pd\n",
    "\n",
    "train = pd.read_csv('train.csv')\n",
    "test = pd.read_csv('test.csv')\n",
    "sample_submission = pd.read_csv('sample_submission.csv')\n"
   ]
  },
  {
   "cell_type": "code",
   "execution_count": 2,
   "id": "87cf46cc",
   "metadata": {},
   "outputs": [
    {
     "name": "stdout",
     "output_type": "stream",
     "text": [
      "LotFrontage      259\n",
      "Alley           1369\n",
      "MasVnrType       872\n",
      "MasVnrArea         8\n",
      "BsmtQual          37\n",
      "BsmtCond          37\n",
      "BsmtExposure      38\n",
      "BsmtFinType1      37\n",
      "BsmtFinType2      38\n",
      "Electrical         1\n",
      "FireplaceQu      690\n",
      "GarageType        81\n",
      "GarageYrBlt       81\n",
      "GarageFinish      81\n",
      "GarageQual        81\n",
      "GarageCond        81\n",
      "PoolQC          1453\n",
      "Fence           1179\n",
      "MiscFeature     1406\n",
      "dtype: int64\n",
      "MSZoning           4\n",
      "LotFrontage      227\n",
      "Alley           1352\n",
      "Utilities          2\n",
      "Exterior1st        1\n",
      "Exterior2nd        1\n",
      "MasVnrType       894\n",
      "MasVnrArea        15\n",
      "BsmtQual          44\n",
      "BsmtCond          45\n",
      "BsmtExposure      44\n",
      "BsmtFinType1      42\n",
      "BsmtFinSF1         1\n",
      "BsmtFinType2      42\n",
      "BsmtFinSF2         1\n",
      "BsmtUnfSF          1\n",
      "TotalBsmtSF        1\n",
      "BsmtFullBath       2\n",
      "BsmtHalfBath       2\n",
      "KitchenQual        1\n",
      "Functional         2\n",
      "FireplaceQu      730\n",
      "GarageType        76\n",
      "GarageYrBlt       78\n",
      "GarageFinish      78\n",
      "GarageCars         1\n",
      "GarageArea         1\n",
      "GarageQual        78\n",
      "GarageCond        78\n",
      "PoolQC          1456\n",
      "Fence           1169\n",
      "MiscFeature     1408\n",
      "SaleType           1\n",
      "dtype: int64\n"
     ]
    }
   ],
   "source": [
    "# Check for missing values in the train dataset\n",
    "missing_values_train = train.isnull().sum()\n",
    "\n",
    "# Check for missing values in the test dataset\n",
    "missing_values_test = test.isnull().sum()\n",
    "\n",
    "print(missing_values_train[missing_values_train > 0])\n",
    "print(missing_values_test[missing_values_test > 0])\n"
   ]
  },
  {
   "cell_type": "code",
   "execution_count": 3,
   "id": "9a83300e",
   "metadata": {},
   "outputs": [],
   "source": [
    "# Example: Fill missing values for LotFrontage with the median value\n",
    "train['LotFrontage'] = train['LotFrontage'].fillna(train['LotFrontage'].median())\n",
    "test['LotFrontage'] = test['LotFrontage'].fillna(test['LotFrontage'].median())\n",
    "\n",
    "# Example: Fill categorical missing values with the mode\n",
    "train['MSZoning'] = train['MSZoning'].fillna(train['MSZoning'].mode()[0])\n",
    "test['MSZoning'] = test['MSZoning'].fillna(test['MSZoning'].mode()[0])\n",
    "\n",
    "# Fill remaining missing values\n",
    "for column in train.columns:\n",
    "    if train[column].dtype == 'object':\n",
    "        train[column] = train[column].fillna('None')\n",
    "    else:\n",
    "        train[column] = train[column].fillna(0)\n",
    "\n",
    "for column in test.columns:\n",
    "    if test[column].dtype == 'object':\n",
    "        test[column] = test[column].fillna('None')\n",
    "    else:\n",
    "        test[column] = test[column].fillna(0)\n"
   ]
  },
  {
   "cell_type": "code",
   "execution_count": 4,
   "id": "720fc480",
   "metadata": {},
   "outputs": [],
   "source": [
    "# Example: Total square footage\n",
    "train['TotalSF'] = train['TotalBsmtSF'] + train['1stFlrSF'] + train['2ndFlrSF']\n",
    "test['TotalSF'] = test['TotalBsmtSF'] + test['1stFlrSF'] + test['2ndFlrSF']\n",
    "\n",
    "# Example: Age of the house\n",
    "train['Age'] = train['YrSold'] - train['YearBuilt']\n",
    "test['Age'] = test['YrSold'] - test['YearBuilt']\n"
   ]
  },
  {
   "cell_type": "code",
   "execution_count": 5,
   "id": "10add86e",
   "metadata": {},
   "outputs": [],
   "source": [
    "# Combine train and test data for consistent encoding\n",
    "all_data = pd.concat([train, test], ignore_index=True)\n",
    "\n",
    "# One-hot encoding for categorical variables\n",
    "all_data = pd.get_dummies(all_data)\n",
    "\n",
    "# Split the data back into train and test sets\n",
    "train = all_data[:len(train)]\n",
    "test = all_data[len(train):]\n"
   ]
  },
  {
   "cell_type": "code",
   "execution_count": 10,
   "id": "db0817d5",
   "metadata": {
    "scrolled": false
   },
   "outputs": [],
   "source": [
    "from sklearn.preprocessing import StandardScaler\n",
    "\n",
    "scaler = StandardScaler()\n",
    "\n",
    "# Columns to scale\n",
    "num_cols = ['LotFrontage', 'LotArea', 'GrLivArea', 'TotalSF', 'Age', '1stFlrSF', '2ndFlrSF', 'TotalBsmtSF']\n",
    "\n",
    "# Scale the numerical features in train and test sets\n",
    "train.loc[:, num_cols] = scaler.fit_transform(train[num_cols])\n",
    "test.loc[:, num_cols] = scaler.transform(test[num_cols])\n"
   ]
  },
  {
   "cell_type": "code",
   "execution_count": 7,
   "id": "2201246d",
   "metadata": {},
   "outputs": [
    {
     "name": "stdout",
     "output_type": "stream",
     "text": [
      "Validation RMSE: 29576.789445184764\n"
     ]
    }
   ],
   "source": [
    "from sklearn.model_selection import train_test_split\n",
    "from sklearn.ensemble import RandomForestRegressor\n",
    "from sklearn.metrics import mean_squared_error\n",
    "\n",
    "# Define target variable and features\n",
    "X = train.drop(['SalePrice'], axis=1)\n",
    "y = train['SalePrice']\n",
    "\n",
    "# Split into training and validation sets\n",
    "X_train, X_valid, y_train, y_valid = train_test_split(X, y, test_size=0.2, random_state=42)\n",
    "\n",
    "# Train a model\n",
    "model = RandomForestRegressor(n_estimators=100, random_state=42)\n",
    "model.fit(X_train, y_train)\n",
    "\n",
    "# Predict and evaluate\n",
    "y_pred = model.predict(X_valid)\n",
    "rmse = mean_squared_error(y_valid, y_pred, squared=False)\n",
    "print(f'Validation RMSE: {rmse}')\n"
   ]
  },
  {
   "cell_type": "code",
   "execution_count": 11,
   "id": "812bcade",
   "metadata": {},
   "outputs": [],
   "source": [
    "# List of features used for training (excluding the target variable 'SalePrice')\n",
    "features = train.drop(columns=['SalePrice']).columns\n",
    "\n",
    "# Ensure test set contains the same features\n",
    "test_features = test[features]\n",
    "\n",
    "# Predict on the test set\n",
    "test.loc[:, 'SalePrice'] = model.predict(test_features)\n",
    "\n",
    "# Prepare the submission file\n",
    "submission = test[['Id', 'SalePrice']]\n",
    "submission.to_csv('submission.csv', index=False)\n"
   ]
  },
  {
   "cell_type": "code",
   "execution_count": null,
   "id": "db4ce18a",
   "metadata": {},
   "outputs": [],
   "source": []
  }
 ],
 "metadata": {
  "kernelspec": {
   "display_name": "Python 3 (ipykernel)",
   "language": "python",
   "name": "python3"
  },
  "language_info": {
   "codemirror_mode": {
    "name": "ipython",
    "version": 3
   },
   "file_extension": ".py",
   "mimetype": "text/x-python",
   "name": "python",
   "nbconvert_exporter": "python",
   "pygments_lexer": "ipython3",
   "version": "3.11.5"
  }
 },
 "nbformat": 4,
 "nbformat_minor": 5
}
